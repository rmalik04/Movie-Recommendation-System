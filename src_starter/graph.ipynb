{
 "cells": [
  {
   "cell_type": "code",
   "execution_count": 1,
   "metadata": {},
   "outputs": [
    {
     "name": "stdout",
     "output_type": "stream",
     "text": [
      "Loading data...\n"
     ]
    }
   ],
   "source": [
    "import multiprocessing\n",
    "from CollabFilterOneVectorPerItem import CollabFilterOneVectorPerItem\n",
    "from train_valid_test_loader import load_train_valid_test_datasets\n",
    "\n",
    "print('Loading data...')\n",
    "\n",
    "def train_model(n_factors, n_users, n_items, train_data, valid_data):\n",
    "    model = CollabFilterOneVectorPerItem(n_epochs=600, batch_size=32, step_size=0.2, n_factors=n_factors, alpha=0.0)\n",
    "    model.init_parameter_dict(n_users, n_items, train_data)\n",
    "    model.fit(train_data, valid_data)\n",
    "    return model.trace_loss, model.trace_smooth_loss\n",
    "\n",
    "if __name__ == '__main__':\n",
    "    # Load the dataset\n",
    "    train_data, valid_data, test_data, n_users, n_items = load_train_valid_test_datasets()\n",
    "\n",
    "    # Create a pool of worker processes\n",
    "    pool = multiprocessing.Pool()\n",
    "\n",
    "    # Define the hyperparameter values for each model\n",
    "    hyperparams = [50, 10, 2]\n",
    "\n",
    "    # Train models in parallel using multiprocessing\n",
    "    results = [pool.apply_async(train_model, args=(n_factors, n_users, n_items, train_data, valid_data)) for n_factors in hyperparams]\n",
    "\n",
    "    # Retrieve the results from the worker processes\n",
    "    train_loss_histories = []\n",
    "    valid_loss_histories = []\n",
    "    for result in results:\n",
    "        train_loss, valid_loss = result.get()\n",
    "        train_loss_histories.append(train_loss)\n",
    "        valid_loss_histories.append(valid_loss)\n",
    "\n",
    "    # Close the pool of worker processes\n",
    "    pool.close()\n",
    "    pool.join()\n",
    "\n",
    "    # Create the plots using the stored loss history lists\n",
    "    import matplotlib.pyplot as plt\n",
    "\n",
    "    fig, (ax1, ax2, ax3) = plt.subplots(1, 3, figsize=(15, 5))\n",
    "\n",
    "    ax1.plot(train_loss_histories[2], label='Training Loss')\n",
    "    ax1.plot(valid_loss_histories[2], label='Validation Loss')\n",
    "    ax1.set_title('K=2 Factors')\n",
    "    ax1.set_xlabel('Epoch')\n",
    "    ax1.set_ylabel('Mean Absolute Error')\n",
    "    ax1.legend()\n",
    "\n",
    "    ax2.plot(train_loss_histories[1], label='Training Loss')\n",
    "    ax2.plot(valid_loss_histories[1], label='Validation Loss')\n",
    "    ax2.set_title('K=10 Factors')\n",
    "    ax2.set_xlabel('Epoch')\n",
    "    ax2.set_ylabel('Mean Absolute Error')\n",
    "    ax2.legend()\n",
    "\n",
    "    ax3.plot(train_loss_histories[0], label='Training Loss')\n",
    "    ax3.plot(valid_loss_histories[0], label='Validation Loss')\n",
    "    ax3.set_title('K=50 Factors')\n",
    "    ax3.set_xlabel('Epoch')\n",
    "    ax3.set_ylabel('Mean Absolute Error')\n",
    "    ax3.legend()\n",
    "\n",
    "    plt.tight_layout()\n",
    "    plt.show()"
   ]
  },
  {
   "cell_type": "code",
   "execution_count": null,
   "metadata": {},
   "outputs": [],
   "source": [
    "\n",
    "\n"
   ]
  }
 ],
 "metadata": {
  "kernelspec": {
   "display_name": "cs135_env",
   "language": "python",
   "name": "python3"
  },
  "language_info": {
   "codemirror_mode": {
    "name": "ipython",
    "version": 3
   },
   "file_extension": ".py",
   "mimetype": "text/x-python",
   "name": "python",
   "nbconvert_exporter": "python",
   "pygments_lexer": "ipython3",
   "version": "3.10.14"
  }
 },
 "nbformat": 4,
 "nbformat_minor": 2
}
